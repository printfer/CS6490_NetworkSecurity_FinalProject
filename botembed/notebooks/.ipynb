{
 "cells": [
  {
   "cell_type": "code",
   "execution_count": 49,
   "metadata": {},
   "outputs": [],
   "source": [
    "import pandas as pd\n",
    "import numpy as np"
   ]
  },
  {
   "cell_type": "code",
   "execution_count": 2,
   "metadata": {},
   "outputs": [],
   "source": [
    "# import scenario 1 (CTU-42)\n",
    "dsn = pd.read_csv('../data/scenario_1.csv')"
   ]
  },
  {
   "cell_type": "code",
   "execution_count": 36,
   "metadata": {
    "scrolled": true
   },
   "outputs": [
    {
     "data": {
      "text/plain": [
       "array(['flow=Background-UDP-Established', 'flow=Background',\n",
       "       'flow=Background-Established-cmpgw-CVUT',\n",
       "       'flow=Background-TCP-Established',\n",
       "       'flow=From-Background-CVUT-Proxy',\n",
       "       'flow=To-Background-UDP-CVUT-DNS-Server',\n",
       "       'flow=Background-UDP-Attempt',\n",
       "       'flow=From-Normal-V42-UDP-CVUT-DNS-Server',\n",
       "       'flow=Background-UDP-NTP-Established-1',\n",
       "       'flow=To-Background-CVUT-WebServer',\n",
       "       'flow=Background-google-analytics3',\n",
       "       'flow=Background-Attempt-cmpgw-CVUT',\n",
       "       'flow=To-Background-CVUT-Proxy',\n",
       "       'flow=Background-google-analytics2',\n",
       "       'flow=Background-google-analytics6', 'flow=From-Normal-V42-Jist',\n",
       "       'flow=Background-google-webmail', 'flow=Background-TCP-Attempt',\n",
       "       'flow=Background-google-analytics12',\n",
       "       'flow=Background-google-analytics1',\n",
       "       'flow=Background-google-analytics13',\n",
       "       'flow=Background-google-analytics14', 'flow=To-Background-Jist',\n",
       "       'flow=Background-ajax.google', 'flow=From-Normal-V42-Grill',\n",
       "       'flow=Background-google-analytics9',\n",
       "       'flow=Background-google-analytics11', 'flow=Background-google-pop',\n",
       "       'flow=From-Normal-V42-Stribrek',\n",
       "       'flow=To-Normal-V42-UDP-NTP-server',\n",
       "       'flow=Background-google-analytics16',\n",
       "       'flow=Background-google-analytics4', 'flow=To-Background-Stribrek',\n",
       "       'flow=Background-google-analytics10',\n",
       "       'flow=Background-google-analytics5',\n",
       "       'flow=Background-google-analytics15', 'flow=To-Background-Grill',\n",
       "       'flow=From-Normal-V42-CVUT-WebServer',\n",
       "       'flow=To-Background-MatLab-Server',\n",
       "       'flow=Background-google-analytics8',\n",
       "       'flow=Background-google-analytics7',\n",
       "       'flow=Background-www.fel.cvut.cz',\n",
       "       'flow=Normal-V42-HTTP-windowsupdate',\n",
       "       'flow=From-Normal-V42-MatLab-Server',\n",
       "       'flow=From-Botnet-V42-UDP-DNS',\n",
       "       'flow=From-Botnet-V42-TCP-HTTP-Google-Net-Established-6',\n",
       "       'flow=From-Botnet-V42-TCP-Established',\n",
       "       'flow=From-Botnet-V42-TCP-Established-HTTP-Binary-Download-1',\n",
       "       'flow=From-Botnet-V42-TCP-Established-HTTP-Binary-Download-Custom-Port-7',\n",
       "       'flow=From-Botnet-V42-TCP-Established-HTTP-Binary-Download-3',\n",
       "       'flow=From-Botnet-V42-TCP-CC6-Plain-HTTP-Encrypted-Data',\n",
       "       'flow=From-Botnet-V42-TCP-Established-HTTP-Binary-Download-Custom-Port-4',\n",
       "       'flow=From-Botnet-V42-TCP-Established-HTTP-Ad-63',\n",
       "       'flow=From-Botnet-V42-TCP-Established-HTTP-Binary-Download-9',\n",
       "       'flow=From-Botnet-V42-TCP-WEB-Established',\n",
       "       'flow=From-Botnet-V42-TCP-Attempt',\n",
       "       'flow=From-Botnet-V42-TCP-CC54-Custom-Encryption',\n",
       "       'flow=From-Botnet-V42-TCP-Established-HTTP-Ad-64',\n",
       "       'flow=From-Botnet-V42-TCP-CC53-HTTP-Not-Encrypted',\n",
       "       'flow=From-Botnet-V42-TCP-Attempt-SPAM',\n",
       "       'flow=From-Botnet-V42-TCP-CC1-HTTP-Not-Encrypted',\n",
       "       'flow=From-Botnet-V42-TCP-Not-Encrypted-SMTP-Private-Proxy-1',\n",
       "       'flow=From-Botnet-V42-TCP-Established-HTTP-Ad-40',\n",
       "       'flow=From-Botnet-V42-UDP-Established',\n",
       "       'flow=From-Botnet-V42-TCP-CC16-HTTP-Not-Encrypted',\n",
       "       'flow=From-Botnet-V42-TCP-Established-HTTP-Ad-15',\n",
       "       'flow=From-Botnet-V42-TCP-Established-HTTP-Ad-44',\n",
       "       'flow=From-Botnet-V42-TCP-Established-HTTP-Ad-16',\n",
       "       'flow=From-Botnet-V42-TCP-Established-HTTP-Adobe-4',\n",
       "       'flow=From-Botnet-V42-TCP-Established-HTTP-Ad-18',\n",
       "       'flow=From-Botnet-V42-TCP-Established-HTTP-Ad-20',\n",
       "       'flow=From-Botnet-V42-TCP-Established-HTTP-Ad-37',\n",
       "       'flow=From-Botnet-V42-TCP-Established-HTTP-Ad-59',\n",
       "       'flow=From-Botnet-V42-TCP-Established-HTTP-Ad-25',\n",
       "       'flow=From-Botnet-V42-TCP-Established-SPAM',\n",
       "       'flow=From-Botnet-V42-TCP-Established-HTTP-Ad-1',\n",
       "       'flow=From-Botnet-V42-TCP-Established-HTTP-Ad-yieldmanager-9',\n",
       "       'flow=From-Botnet-V42-TCP-Established-HTTP-Binary-Download-Custom-Port-5',\n",
       "       'flow=From-Botnet-V42-TCP-HTTP-Not-Encrypted-Down-2',\n",
       "       'flow=From-Botnet-V42-TCP-CC55-Custom-Encryption',\n",
       "       'flow=From-Botnet-V42-TCP-WEB-Established-SSL',\n",
       "       'flow=From-Botnet-V42-TCP-Established-HTTP-Ad-12',\n",
       "       'flow=From-Botnet-V42-TCP-Established-Custom-Encryption-3',\n",
       "       'flow=From-Botnet-V42-TCP-Established-Custom-Encryption-2',\n",
       "       'flow=From-Botnet-V42-TCP-Established-HTTP-Ad-21',\n",
       "       'flow=From-Botnet-V42-TCP-Established-HTTP-Ad-55',\n",
       "       'flow=From-Botnet-V42-TCP-Established-HTTP-Ad-5',\n",
       "       'flow=From-Botnet-V42-TCP-Established-HTTP-Ad-53',\n",
       "       'flow=From-Botnet-V42-TCP-Established-SSL-To-Microsoft-4',\n",
       "       'flow=From-Botnet-V42-TCP-Established-HTTP-Ad-47',\n",
       "       'flow=From-Botnet-V42-TCP-Established-HTTP-Ad-30',\n",
       "       'flow=From-Botnet-V42-TCP-Established-HTTP-Ad-10',\n",
       "       'flow=From-Botnet-V42-TCP-Established-HTTP-Ad-6',\n",
       "       'flow=From-Botnet-V42-TCP-Established-HTTP-Ad-51',\n",
       "       'flow=From-Botnet-V42-TCP-Established-HTTP-Ad-32',\n",
       "       'flow=From-Botnet-V42-TCP-Established-HTTP-Ad-3',\n",
       "       'flow=From-Botnet-V42-TCP-Established-HTTP-Ad-57',\n",
       "       'flow=From-Botnet-V42-TCP-Established-HTTP-Ad-60',\n",
       "       'flow=From-Botnet-V42-TCP-Established-HTTP-Ad-41',\n",
       "       'flow=From-Botnet-V42-TCP-Established-HTTP-Ad-61',\n",
       "       'flow=From-Botnet-V42-ICMP',\n",
       "       'flow=From-Botnet-V42-TCP-Established-HTTP-Ad-48',\n",
       "       'flow=From-Botnet-V42-TCP-Established-HTTP-Ad-28',\n",
       "       'flow=From-Botnet-V42-TCP-Established-HTTP-Ad-42',\n",
       "       'flow=From-Botnet-V42-TCP-Established-HTTP-Ad-50',\n",
       "       'flow=From-Botnet-V42-TCP-Established-HTTP-Ad-7',\n",
       "       'flow=From-Botnet-V42-TCP-Established-HTTP-Ad-33',\n",
       "       'flow=From-Botnet-V42-TCP-Established-HTTP-Ad-45',\n",
       "       'flow=From-Botnet-V42-UDP-Attempt-DNS',\n",
       "       'flow=From-Botnet-V42-TCP-Established-HTTP-Ad-52',\n",
       "       'flow=From-Botnet-V42-TCP-Established-HTTP-Ad-49',\n",
       "       'flow=From-Botnet-V42-TCP-Established-HTTP-Ad-34',\n",
       "       'flow=Background-CS-Host-CVUT'], dtype=object)"
      ]
     },
     "execution_count": 36,
     "metadata": {},
     "output_type": "execute_result"
    }
   ],
   "source": [
    "dsn['Label'].unique()"
   ]
  },
  {
   "cell_type": "code",
   "execution_count": 43,
   "metadata": {
    "scrolled": true
   },
   "outputs": [
    {
     "data": {
      "text/plain": [
       "Label\n",
       "flow=Background                                                              40216\n",
       "flow=Background-Attempt-cmpgw-CVUT                                           30983\n",
       "flow=Background-CS-Host-CVUT                                                    22\n",
       "flow=Background-Established-cmpgw-CVUT                                      137257\n",
       "flow=Background-TCP-Attempt                                                 105438\n",
       "flow=Background-TCP-Established                                             223543\n",
       "flow=Background-UDP-Attempt                                                  66699\n",
       "flow=Background-UDP-Established                                            1169677\n",
       "flow=Background-UDP-NTP-Established-1                                         2233\n",
       "flow=Background-ajax.google                                                   1197\n",
       "flow=Background-google-analytics1                                              500\n",
       "flow=Background-google-analytics10                                             732\n",
       "flow=Background-google-analytics11                                             529\n",
       "flow=Background-google-analytics12                                             542\n",
       "flow=Background-google-analytics13                                             595\n",
       "flow=Background-google-analytics14                                             538\n",
       "flow=Background-google-analytics15                                             536\n",
       "flow=Background-google-analytics16                                             599\n",
       "flow=Background-google-analytics2                                              522\n",
       "flow=Background-google-analytics3                                              579\n",
       "flow=Background-google-analytics4                                              569\n",
       "flow=Background-google-analytics5                                              505\n",
       "flow=Background-google-analytics6                                              628\n",
       "flow=Background-google-analytics7                                              624\n",
       "flow=Background-google-analytics8                                              630\n",
       "flow=Background-google-analytics9                                              561\n",
       "flow=Background-google-pop                                                     407\n",
       "flow=Background-google-webmail                                                 560\n",
       "flow=Background-www.fel.cvut.cz                                                310\n",
       "flow=From-Background-CVUT-Proxy                                                502\n",
       "flow=From-Botnet-V42-ICMP                                                        2\n",
       "flow=From-Botnet-V42-TCP-Attempt                                              1881\n",
       "flow=From-Botnet-V42-TCP-Attempt-SPAM                                         8105\n",
       "flow=From-Botnet-V42-TCP-CC1-HTTP-Not-Encrypted                                 37\n",
       "flow=From-Botnet-V42-TCP-CC16-HTTP-Not-Encrypted                               221\n",
       "flow=From-Botnet-V42-TCP-CC53-HTTP-Not-Encrypted                                53\n",
       "flow=From-Botnet-V42-TCP-CC54-Custom-Encryption                                 11\n",
       "flow=From-Botnet-V42-TCP-CC55-Custom-Encryption                                  9\n",
       "flow=From-Botnet-V42-TCP-CC6-Plain-HTTP-Encrypted-Data                          10\n",
       "flow=From-Botnet-V42-TCP-Established                                            43\n",
       "flow=From-Botnet-V42-TCP-Established-Custom-Encryption-2                         5\n",
       "flow=From-Botnet-V42-TCP-Established-Custom-Encryption-3                         5\n",
       "flow=From-Botnet-V42-TCP-Established-HTTP-Ad-1                                  38\n",
       "flow=From-Botnet-V42-TCP-Established-HTTP-Ad-10                                 13\n",
       "flow=From-Botnet-V42-TCP-Established-HTTP-Ad-12                                  4\n",
       "flow=From-Botnet-V42-TCP-Established-HTTP-Ad-15                                 29\n",
       "flow=From-Botnet-V42-TCP-Established-HTTP-Ad-16                                 16\n",
       "flow=From-Botnet-V42-TCP-Established-HTTP-Ad-18                                 31\n",
       "flow=From-Botnet-V42-TCP-Established-HTTP-Ad-20                                 32\n",
       "flow=From-Botnet-V42-TCP-Established-HTTP-Ad-21                                 31\n",
       "flow=From-Botnet-V42-TCP-Established-HTTP-Ad-25                                  7\n",
       "flow=From-Botnet-V42-TCP-Established-HTTP-Ad-28                                  3\n",
       "flow=From-Botnet-V42-TCP-Established-HTTP-Ad-3                                  14\n",
       "flow=From-Botnet-V42-TCP-Established-HTTP-Ad-30                                 21\n",
       "flow=From-Botnet-V42-TCP-Established-HTTP-Ad-32                                 14\n",
       "flow=From-Botnet-V42-TCP-Established-HTTP-Ad-33                                  3\n",
       "flow=From-Botnet-V42-TCP-Established-HTTP-Ad-34                                  2\n",
       "flow=From-Botnet-V42-TCP-Established-HTTP-Ad-37                                 21\n",
       "flow=From-Botnet-V42-TCP-Established-HTTP-Ad-40                                 15\n",
       "flow=From-Botnet-V42-TCP-Established-HTTP-Ad-41                                  9\n",
       "flow=From-Botnet-V42-TCP-Established-HTTP-Ad-42                                  3\n",
       "flow=From-Botnet-V42-TCP-Established-HTTP-Ad-44                                 23\n",
       "flow=From-Botnet-V42-TCP-Established-HTTP-Ad-45                                  8\n",
       "flow=From-Botnet-V42-TCP-Established-HTTP-Ad-47                                  3\n",
       "flow=From-Botnet-V42-TCP-Established-HTTP-Ad-48                                  7\n",
       "flow=From-Botnet-V42-TCP-Established-HTTP-Ad-49                                  1\n",
       "flow=From-Botnet-V42-TCP-Established-HTTP-Ad-5                                   3\n",
       "flow=From-Botnet-V42-TCP-Established-HTTP-Ad-50                                  4\n",
       "flow=From-Botnet-V42-TCP-Established-HTTP-Ad-51                                  4\n",
       "flow=From-Botnet-V42-TCP-Established-HTTP-Ad-52                                  4\n",
       "flow=From-Botnet-V42-TCP-Established-HTTP-Ad-53                                  3\n",
       "flow=From-Botnet-V42-TCP-Established-HTTP-Ad-55                                 28\n",
       "flow=From-Botnet-V42-TCP-Established-HTTP-Ad-57                                  3\n",
       "flow=From-Botnet-V42-TCP-Established-HTTP-Ad-59                                  4\n",
       "flow=From-Botnet-V42-TCP-Established-HTTP-Ad-6                                   6\n",
       "flow=From-Botnet-V42-TCP-Established-HTTP-Ad-60                                  1\n",
       "flow=From-Botnet-V42-TCP-Established-HTTP-Ad-61                                 13\n",
       "flow=From-Botnet-V42-TCP-Established-HTTP-Ad-63                                352\n",
       "flow=From-Botnet-V42-TCP-Established-HTTP-Ad-64                                  2\n",
       "flow=From-Botnet-V42-TCP-Established-HTTP-Ad-7                                   9\n",
       "flow=From-Botnet-V42-TCP-Established-HTTP-Ad-yieldmanager-9                     26\n",
       "flow=From-Botnet-V42-TCP-Established-HTTP-Adobe-4                                1\n",
       "flow=From-Botnet-V42-TCP-Established-HTTP-Binary-Download-1                      3\n",
       "flow=From-Botnet-V42-TCP-Established-HTTP-Binary-Download-3                      6\n",
       "flow=From-Botnet-V42-TCP-Established-HTTP-Binary-Download-9                      2\n",
       "flow=From-Botnet-V42-TCP-Established-HTTP-Binary-Download-Custom-Port-4          2\n",
       "flow=From-Botnet-V42-TCP-Established-HTTP-Binary-Download-Custom-Port-5          1\n",
       "flow=From-Botnet-V42-TCP-Established-HTTP-Binary-Download-Custom-Port-7          2\n",
       "flow=From-Botnet-V42-TCP-Established-SPAM                                       62\n",
       "flow=From-Botnet-V42-TCP-Established-SSL-To-Microsoft-4                         13\n",
       "flow=From-Botnet-V42-TCP-HTTP-Google-Net-Established-6                          10\n",
       "flow=From-Botnet-V42-TCP-HTTP-Not-Encrypted-Down-2                               1\n",
       "flow=From-Botnet-V42-TCP-Not-Encrypted-SMTP-Private-Proxy-1                    320\n",
       "flow=From-Botnet-V42-TCP-WEB-Established                                        93\n",
       "flow=From-Botnet-V42-TCP-WEB-Established-SSL                                    50\n",
       "flow=From-Botnet-V42-UDP-Attempt-DNS                                          3057\n",
       "flow=From-Botnet-V42-UDP-DNS                                                 26140\n",
       "flow=From-Botnet-V42-UDP-Established                                             6\n",
       "flow=From-Normal-V42-CVUT-WebServer                                            269\n",
       "flow=From-Normal-V42-Grill                                                    7654\n",
       "flow=From-Normal-V42-Jist                                                     3808\n",
       "flow=From-Normal-V42-MatLab-Server                                               6\n",
       "flow=From-Normal-V42-Stribrek                                                18438\n",
       "flow=From-Normal-V42-UDP-CVUT-DNS-Server                                        83\n",
       "flow=Normal-V42-HTTP-windowsupdate                                               9\n",
       "flow=To-Background-CVUT-Proxy                                                19542\n",
       "flow=To-Background-CVUT-WebServer                                             2587\n",
       "flow=To-Background-Grill                                                       294\n",
       "flow=To-Background-Jist                                                         60\n",
       "flow=To-Background-MatLab-Server                                               833\n",
       "flow=To-Background-Stribrek                                                     33\n",
       "flow=To-Background-UDP-CVUT-DNS-Server                                      941706\n",
       "flow=To-Normal-V42-UDP-NTP-server                                              120\n",
       "Name: SrcAddr, dtype: int64"
      ]
     },
     "execution_count": 43,
     "metadata": {},
     "output_type": "execute_result"
    }
   ],
   "source": [
    "pd.options.display.max_rows=150\n",
    "dsn.groupby('Label').count()['SrcAddr']"
   ]
  },
  {
   "cell_type": "code",
   "execution_count": 10,
   "metadata": {
    "scrolled": true
   },
   "outputs": [
    {
     "name": "stdout",
     "output_type": "stream",
     "text": [
      "flow=From-Botnet-V42-UDP-DNS\n",
      "flow=From-Botnet-V42-TCP-HTTP-Google-Net-Established-6\n",
      "flow=From-Botnet-V42-TCP-Established\n",
      "flow=From-Botnet-V42-TCP-Established-HTTP-Binary-Download-1\n",
      "flow=From-Botnet-V42-TCP-Established-HTTP-Binary-Download-Custom-Port-7\n",
      "flow=From-Botnet-V42-TCP-Established-HTTP-Binary-Download-3\n",
      "flow=From-Botnet-V42-TCP-CC6-Plain-HTTP-Encrypted-Data\n",
      "flow=From-Botnet-V42-TCP-Established-HTTP-Binary-Download-Custom-Port-4\n",
      "flow=From-Botnet-V42-TCP-Established-HTTP-Ad-63\n",
      "flow=From-Botnet-V42-TCP-Established-HTTP-Binary-Download-9\n",
      "flow=From-Botnet-V42-TCP-WEB-Established\n",
      "flow=From-Botnet-V42-TCP-Attempt\n",
      "flow=From-Botnet-V42-TCP-CC54-Custom-Encryption\n",
      "flow=From-Botnet-V42-TCP-Established-HTTP-Ad-64\n",
      "flow=From-Botnet-V42-TCP-CC53-HTTP-Not-Encrypted\n",
      "flow=From-Botnet-V42-TCP-Attempt-SPAM\n",
      "flow=From-Botnet-V42-TCP-CC1-HTTP-Not-Encrypted\n",
      "flow=From-Botnet-V42-TCP-Not-Encrypted-SMTP-Private-Proxy-1\n",
      "flow=From-Botnet-V42-TCP-Established-HTTP-Ad-40\n",
      "flow=From-Botnet-V42-UDP-Established\n",
      "flow=From-Botnet-V42-TCP-CC16-HTTP-Not-Encrypted\n",
      "flow=From-Botnet-V42-TCP-Established-HTTP-Ad-15\n",
      "flow=From-Botnet-V42-TCP-Established-HTTP-Ad-44\n",
      "flow=From-Botnet-V42-TCP-Established-HTTP-Ad-16\n",
      "flow=From-Botnet-V42-TCP-Established-HTTP-Adobe-4\n",
      "flow=From-Botnet-V42-TCP-Established-HTTP-Ad-18\n",
      "flow=From-Botnet-V42-TCP-Established-HTTP-Ad-20\n",
      "flow=From-Botnet-V42-TCP-Established-HTTP-Ad-37\n",
      "flow=From-Botnet-V42-TCP-Established-HTTP-Ad-59\n",
      "flow=From-Botnet-V42-TCP-Established-HTTP-Ad-25\n",
      "flow=From-Botnet-V42-TCP-Established-SPAM\n",
      "flow=From-Botnet-V42-TCP-Established-HTTP-Ad-1\n",
      "flow=From-Botnet-V42-TCP-Established-HTTP-Ad-yieldmanager-9\n",
      "flow=From-Botnet-V42-TCP-Established-HTTP-Binary-Download-Custom-Port-5\n",
      "flow=From-Botnet-V42-TCP-HTTP-Not-Encrypted-Down-2\n",
      "flow=From-Botnet-V42-TCP-CC55-Custom-Encryption\n",
      "flow=From-Botnet-V42-TCP-WEB-Established-SSL\n",
      "flow=From-Botnet-V42-TCP-Established-HTTP-Ad-12\n",
      "flow=From-Botnet-V42-TCP-Established-Custom-Encryption-3\n",
      "flow=From-Botnet-V42-TCP-Established-Custom-Encryption-2\n",
      "flow=From-Botnet-V42-TCP-Established-HTTP-Ad-21\n",
      "flow=From-Botnet-V42-TCP-Established-HTTP-Ad-55\n",
      "flow=From-Botnet-V42-TCP-Established-HTTP-Ad-5\n",
      "flow=From-Botnet-V42-TCP-Established-HTTP-Ad-53\n",
      "flow=From-Botnet-V42-TCP-Established-SSL-To-Microsoft-4\n",
      "flow=From-Botnet-V42-TCP-Established-HTTP-Ad-47\n",
      "flow=From-Botnet-V42-TCP-Established-HTTP-Ad-30\n",
      "flow=From-Botnet-V42-TCP-Established-HTTP-Ad-10\n",
      "flow=From-Botnet-V42-TCP-Established-HTTP-Ad-6\n",
      "flow=From-Botnet-V42-TCP-Established-HTTP-Ad-51\n",
      "flow=From-Botnet-V42-TCP-Established-HTTP-Ad-32\n",
      "flow=From-Botnet-V42-TCP-Established-HTTP-Ad-3\n",
      "flow=From-Botnet-V42-TCP-Established-HTTP-Ad-57\n",
      "flow=From-Botnet-V42-TCP-Established-HTTP-Ad-60\n",
      "flow=From-Botnet-V42-TCP-Established-HTTP-Ad-41\n",
      "flow=From-Botnet-V42-TCP-Established-HTTP-Ad-61\n",
      "flow=From-Botnet-V42-ICMP\n",
      "flow=From-Botnet-V42-TCP-Established-HTTP-Ad-48\n",
      "flow=From-Botnet-V42-TCP-Established-HTTP-Ad-28\n",
      "flow=From-Botnet-V42-TCP-Established-HTTP-Ad-42\n",
      "flow=From-Botnet-V42-TCP-Established-HTTP-Ad-50\n",
      "flow=From-Botnet-V42-TCP-Established-HTTP-Ad-7\n",
      "flow=From-Botnet-V42-TCP-Established-HTTP-Ad-33\n",
      "flow=From-Botnet-V42-TCP-Established-HTTP-Ad-45\n",
      "flow=From-Botnet-V42-UDP-Attempt-DNS\n",
      "flow=From-Botnet-V42-TCP-Established-HTTP-Ad-52\n",
      "flow=From-Botnet-V42-TCP-Established-HTTP-Ad-49\n",
      "flow=From-Botnet-V42-TCP-Established-HTTP-Ad-34\n"
     ]
    }
   ],
   "source": [
    "# Unique Botnet Labels\n",
    "for label in dsn['Label'].unique():\n",
    "    if 'botnet' in label.lower():\n",
    "        print(label)"
   ]
  },
  {
   "cell_type": "code",
   "execution_count": 28,
   "metadata": {},
   "outputs": [
    {
     "name": "stdout",
     "output_type": "stream",
     "text": [
      "No. unique SrcAddr: 542093\n",
      "No. unique DestAddr: 119296\n"
     ]
    }
   ],
   "source": [
    "print('No. unique SrcAddr:', dsn['SrcAddr'].nunique())\n",
    "print('No. unique DestAddr:', dsn['DstAddr'].nunique())"
   ]
  },
  {
   "cell_type": "code",
   "execution_count": 29,
   "metadata": {
    "scrolled": true
   },
   "outputs": [
    {
     "name": "stdout",
     "output_type": "stream",
     "text": [
      "Total No. of flows:  2824636\n",
      "No. of botnet flows:  40961\n"
     ]
    }
   ],
   "source": [
    "print('Total No. of flows: ', len(dsn))\n",
    "bot_count = dsn['Label'].apply(lambda x: 1 if 'botnet' in x.lower() else 0)\n",
    "print('No. of botnet flows: ', bot_count.sum())"
   ]
  },
  {
   "cell_type": "code",
   "execution_count": 35,
   "metadata": {},
   "outputs": [
    {
     "name": "stdout",
     "output_type": "stream",
     "text": [
      "No. of unique nodes:  607565\n"
     ]
    }
   ],
   "source": [
    "unique_nodes = set(dsn['SrcAddr'].unique()).union(set(dsn['DstAddr'].unique()))\n",
    "print('No. of unique nodes: ', len(unique_nodes))"
   ]
  }
 ],
 "metadata": {
  "kernelspec": {
   "display_name": "Python 3",
   "language": "python",
   "name": "python3"
  },
  "language_info": {
   "codemirror_mode": {
    "name": "ipython",
    "version": 3
   },
   "file_extension": ".py",
   "mimetype": "text/x-python",
   "name": "python",
   "nbconvert_exporter": "python",
   "pygments_lexer": "ipython3",
   "version": "3.7.6"
  }
 },
 "nbformat": 4,
 "nbformat_minor": 4
}
